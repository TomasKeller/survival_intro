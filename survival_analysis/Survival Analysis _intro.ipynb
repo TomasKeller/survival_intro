{
 "cells": [
  {
   "cell_type": "markdown",
   "metadata": {},
   "source": [
    "## introduction\n",
    "https://sites.google.com/site/econometricsacademy/econometrics-models/survival-analysis"
   ]
  },
  {
   "cell_type": "markdown",
   "metadata": {},
   "source": [
    "```\n",
    "-  We are interested in how long they stay in the sample (survival)\n",
    "-  We are also interested in their risk of failure (hazard rates)```"
   ]
  },
  {
   "cell_type": "markdown",
   "metadata": {},
   "source": [
    "```The dependent variable is duration. Acombination of time and event/censoring (=1 if event hasn't happened')```\n",
    "\n",
    "```The hazard rate is the probability that the event will happen at time t given that the indivisual is at risk at time t (still be in the sample). Hazard rates usually change over time```\n",
    "\n",
    "\n",
    "```Nonparametric functions gives an understanding of the data```\n",
    "\n",
    "<img src=\"pics/survival_intro_table.png\", width=600>\n",
    "\n"
   ]
  },
  {
   "cell_type": "markdown",
   "metadata": {},
   "source": [
    "<img src=\"pics/survival_intro_nonparam.png\", width=600>\n",
    "\n",
    "<img src=\"pics/survival_intro_param.png\", width=600>\n",
    "\n",
    "<img src=\"pics/survival_intro_cox.png\", width=600>\n",
    "\n",
    "<img src=\"pics/survival_intro_example_graph.png\", width=600>\n",
    "\n",
    "<img src=\"pics/survival_intro_example.png\", width=600>\n",
    "\n",
    "<img src=\"pics/survival_intro_example2.png\", width=600>\n"
   ]
  },
  {
   "cell_type": "code",
   "execution_count": null,
   "metadata": {
    "collapsed": true
   },
   "outputs": [],
   "source": []
  }
 ],
 "metadata": {
  "kernelspec": {
   "display_name": "Python 2",
   "language": "python",
   "name": "python2"
  },
  "language_info": {
   "codemirror_mode": {
    "name": "ipython",
    "version": 2
   },
   "file_extension": ".py",
   "mimetype": "text/x-python",
   "name": "python",
   "nbconvert_exporter": "python",
   "pygments_lexer": "ipython2",
   "version": "2.7.12"
  }
 },
 "nbformat": 4,
 "nbformat_minor": 0
}
